{
  "nbformat": 4,
  "nbformat_minor": 0,
  "metadata": {
    "colab": {
      "name": "Untitled0.ipynb",
      "provenance": [],
      "authorship_tag": "ABX9TyNjwu/k5X1RyqGx2kV/h6KY",
      "include_colab_link": true
    },
    "kernelspec": {
      "name": "python3",
      "display_name": "Python 3"
    },
    "language_info": {
      "name": "python"
    }
  },
  "cells": [
    {
      "cell_type": "markdown",
      "metadata": {
        "id": "view-in-github",
        "colab_type": "text"
      },
      "source": [
        "<a href=\"https://colab.research.google.com/github/austlab/lab1-austinlabrecque/blob/main/lab1.ipynb\" target=\"_parent\"><img src=\"https://colab.research.google.com/assets/colab-badge.svg\" alt=\"Open In Colab\"/></a>"
      ]
    },
    {
      "cell_type": "code",
      "execution_count": null,
      "metadata": {
        "id": "yzUeNmbnqtai"
      },
      "outputs": [],
      "source": [
        "#******************************************************************************\n",
        "# COMP 593 - Lab 1\n",
        "#\n",
        "# Description:\n",
        "#  Asks the user to select a font from a randomly selected list of choices. Font can be selected by inputting corresponding number or font name.\n",
        "#  Then asks user to input some text which will print out in selected font.\n",
        "#\n",
        "#  Date        Author   \n",
        "#  2/6/2022  Austin Labrecque  \n",
        "#******************************************************************************\n",
        "\n",
        "!pip install pyfiglet\n",
        "\n",
        "from pyfiglet import Figlet\n",
        "import random\n",
        "\n",
        "figlet = Figlet()\n",
        "fonts = figlet.getFonts()\n",
        "\n",
        "font1 = random.choice(fonts)\n",
        "font2 = random.choice(fonts)\n",
        "font3 = random.choice(fonts)\n",
        "font4 = random.choice(fonts)\n",
        "font5 = random.choice(fonts)\n",
        "\n",
        "selectedFont = input(\"Select your font: 1. \"+font1+\" 2. \"+font2+\" 3. \"+font3+\" 4. \"+font4+\" 5. \"+font5+\"\\n >>>\")\n",
        "\n",
        "if (selectedFont == \"1\") or (selectedFont == font1):\n",
        "    userInput = input(\"Enter some text: \\n\")\n",
        "    figlet.setFont(font=font1)\n",
        "    print(figlet.renderText(userInput))\n",
        "    \n",
        "    \n",
        "elif (selectedFont == \"2\") or (selectedFont == font2):\n",
        "    userInput = input(\"Enter some text: \\n\")\n",
        "    figlet.setFont(font=font2)\n",
        "    print(figlet.renderText(userInput))\n",
        "\n",
        "elif (selectedFont == \"3\") or (selectedFont == font3):\n",
        "    userInput = input(\"Enter some text: \\n\")\n",
        "    figlet.setFont(font=font3)\n",
        "    print(figlet.renderText(userInput))      \n",
        "    \n",
        "elif (selectedFont == \"4\") or (selectedFont == font4):\n",
        "    userInput = input(\"Enter some text: \\n\")\n",
        "    figlet.setFont(font=font4)\n",
        "    print(figlet.renderText(userInput)) \n",
        "\n",
        "elif (selectedFont == \"5\") or (selectedFont == font5):\n",
        "    userInput = input(\"Enter some text: \\n\")\n",
        "    figlet.setFont(font=font5)\n",
        "    print(figlet.renderText(userInput))    "
      ]
    }
  ]
}