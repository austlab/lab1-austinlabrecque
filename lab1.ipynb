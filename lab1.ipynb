{
  "nbformat": 4,
  "nbformat_minor": 0,
  "metadata": {
    "colab": {
      "name": "Untitled0.ipynb",
      "provenance": [],
      "authorship_tag": "ABX9TyOy/KtU2IPdLqAsf+lkjWOh",
      "include_colab_link": true
    },
    "kernelspec": {
      "name": "python3",
      "display_name": "Python 3"
    },
    "language_info": {
      "name": "python"
    }
  },
  "cells": [
    {
      "cell_type": "markdown",
      "metadata": {
        "id": "view-in-github",
        "colab_type": "text"
      },
      "source": [
        "<a href=\"https://colab.research.google.com/github/austlab/lab1-austinlabrecque/blob/main/lab1.ipynb\" target=\"_parent\"><img src=\"https://colab.research.google.com/assets/colab-badge.svg\" alt=\"Open In Colab\"/></a>"
      ]
    },
    {
      "cell_type": "code",
      "execution_count": 3,
      "metadata": {
        "colab": {
          "base_uri": "https://localhost:8080/"
        },
        "id": "yzUeNmbnqtai",
        "outputId": "78b54fba-c7fd-49f8-fd70-991e2a3a7ea3"
      },
      "outputs": [
        {
          "output_type": "stream",
          "name": "stdout",
          "text": [
            "Collecting pyfiglet\n",
            "  Downloading pyfiglet-0.8.post1-py2.py3-none-any.whl (865 kB)\n",
            "\u001b[?25l\r\u001b[K     |▍                               | 10 kB 18.4 MB/s eta 0:00:01\r\u001b[K     |▊                               | 20 kB 25.0 MB/s eta 0:00:01\r\u001b[K     |█▏                              | 30 kB 21.7 MB/s eta 0:00:01\r\u001b[K     |█▌                              | 40 kB 17.5 MB/s eta 0:00:01\r\u001b[K     |██                              | 51 kB 10.2 MB/s eta 0:00:01\r\u001b[K     |██▎                             | 61 kB 11.8 MB/s eta 0:00:01\r\u001b[K     |██▋                             | 71 kB 9.4 MB/s eta 0:00:01\r\u001b[K     |███                             | 81 kB 10.4 MB/s eta 0:00:01\r\u001b[K     |███▍                            | 92 kB 11.4 MB/s eta 0:00:01\r\u001b[K     |███▉                            | 102 kB 9.5 MB/s eta 0:00:01\r\u001b[K     |████▏                           | 112 kB 9.5 MB/s eta 0:00:01\r\u001b[K     |████▌                           | 122 kB 9.5 MB/s eta 0:00:01\r\u001b[K     |█████                           | 133 kB 9.5 MB/s eta 0:00:01\r\u001b[K     |█████▎                          | 143 kB 9.5 MB/s eta 0:00:01\r\u001b[K     |█████▊                          | 153 kB 9.5 MB/s eta 0:00:01\r\u001b[K     |██████                          | 163 kB 9.5 MB/s eta 0:00:01\r\u001b[K     |██████▍                         | 174 kB 9.5 MB/s eta 0:00:01\r\u001b[K     |██████▉                         | 184 kB 9.5 MB/s eta 0:00:01\r\u001b[K     |███████▏                        | 194 kB 9.5 MB/s eta 0:00:01\r\u001b[K     |███████▋                        | 204 kB 9.5 MB/s eta 0:00:01\r\u001b[K     |████████                        | 215 kB 9.5 MB/s eta 0:00:01\r\u001b[K     |████████▎                       | 225 kB 9.5 MB/s eta 0:00:01\r\u001b[K     |████████▊                       | 235 kB 9.5 MB/s eta 0:00:01\r\u001b[K     |█████████                       | 245 kB 9.5 MB/s eta 0:00:01\r\u001b[K     |█████████▌                      | 256 kB 9.5 MB/s eta 0:00:01\r\u001b[K     |█████████▉                      | 266 kB 9.5 MB/s eta 0:00:01\r\u001b[K     |██████████▏                     | 276 kB 9.5 MB/s eta 0:00:01\r\u001b[K     |██████████▋                     | 286 kB 9.5 MB/s eta 0:00:01\r\u001b[K     |███████████                     | 296 kB 9.5 MB/s eta 0:00:01\r\u001b[K     |███████████▍                    | 307 kB 9.5 MB/s eta 0:00:01\r\u001b[K     |███████████▊                    | 317 kB 9.5 MB/s eta 0:00:01\r\u001b[K     |████████████                    | 327 kB 9.5 MB/s eta 0:00:01\r\u001b[K     |████████████▌                   | 337 kB 9.5 MB/s eta 0:00:01\r\u001b[K     |████████████▉                   | 348 kB 9.5 MB/s eta 0:00:01\r\u001b[K     |█████████████▎                  | 358 kB 9.5 MB/s eta 0:00:01\r\u001b[K     |█████████████▋                  | 368 kB 9.5 MB/s eta 0:00:01\r\u001b[K     |██████████████                  | 378 kB 9.5 MB/s eta 0:00:01\r\u001b[K     |██████████████▍                 | 389 kB 9.5 MB/s eta 0:00:01\r\u001b[K     |██████████████▊                 | 399 kB 9.5 MB/s eta 0:00:01\r\u001b[K     |███████████████▏                | 409 kB 9.5 MB/s eta 0:00:01\r\u001b[K     |███████████████▌                | 419 kB 9.5 MB/s eta 0:00:01\r\u001b[K     |████████████████                | 430 kB 9.5 MB/s eta 0:00:01\r\u001b[K     |████████████████▎               | 440 kB 9.5 MB/s eta 0:00:01\r\u001b[K     |████████████████▋               | 450 kB 9.5 MB/s eta 0:00:01\r\u001b[K     |█████████████████               | 460 kB 9.5 MB/s eta 0:00:01\r\u001b[K     |█████████████████▍              | 471 kB 9.5 MB/s eta 0:00:01\r\u001b[K     |█████████████████▉              | 481 kB 9.5 MB/s eta 0:00:01\r\u001b[K     |██████████████████▏             | 491 kB 9.5 MB/s eta 0:00:01\r\u001b[K     |██████████████████▌             | 501 kB 9.5 MB/s eta 0:00:01\r\u001b[K     |███████████████████             | 512 kB 9.5 MB/s eta 0:00:01\r\u001b[K     |███████████████████▎            | 522 kB 9.5 MB/s eta 0:00:01\r\u001b[K     |███████████████████▊            | 532 kB 9.5 MB/s eta 0:00:01\r\u001b[K     |████████████████████            | 542 kB 9.5 MB/s eta 0:00:01\r\u001b[K     |████████████████████▍           | 552 kB 9.5 MB/s eta 0:00:01\r\u001b[K     |████████████████████▉           | 563 kB 9.5 MB/s eta 0:00:01\r\u001b[K     |█████████████████████▏          | 573 kB 9.5 MB/s eta 0:00:01\r\u001b[K     |█████████████████████▋          | 583 kB 9.5 MB/s eta 0:00:01\r\u001b[K     |██████████████████████          | 593 kB 9.5 MB/s eta 0:00:01\r\u001b[K     |██████████████████████▎         | 604 kB 9.5 MB/s eta 0:00:01\r\u001b[K     |██████████████████████▊         | 614 kB 9.5 MB/s eta 0:00:01\r\u001b[K     |███████████████████████         | 624 kB 9.5 MB/s eta 0:00:01\r\u001b[K     |███████████████████████▌        | 634 kB 9.5 MB/s eta 0:00:01\r\u001b[K     |███████████████████████▉        | 645 kB 9.5 MB/s eta 0:00:01\r\u001b[K     |████████████████████████▏       | 655 kB 9.5 MB/s eta 0:00:01\r\u001b[K     |████████████████████████▋       | 665 kB 9.5 MB/s eta 0:00:01\r\u001b[K     |█████████████████████████       | 675 kB 9.5 MB/s eta 0:00:01\r\u001b[K     |█████████████████████████▍      | 686 kB 9.5 MB/s eta 0:00:01\r\u001b[K     |█████████████████████████▊      | 696 kB 9.5 MB/s eta 0:00:01\r\u001b[K     |██████████████████████████▏     | 706 kB 9.5 MB/s eta 0:00:01\r\u001b[K     |██████████████████████████▌     | 716 kB 9.5 MB/s eta 0:00:01\r\u001b[K     |██████████████████████████▉     | 727 kB 9.5 MB/s eta 0:00:01\r\u001b[K     |███████████████████████████▎    | 737 kB 9.5 MB/s eta 0:00:01\r\u001b[K     |███████████████████████████▋    | 747 kB 9.5 MB/s eta 0:00:01\r\u001b[K     |████████████████████████████    | 757 kB 9.5 MB/s eta 0:00:01\r\u001b[K     |████████████████████████████▍   | 768 kB 9.5 MB/s eta 0:00:01\r\u001b[K     |████████████████████████████▊   | 778 kB 9.5 MB/s eta 0:00:01\r\u001b[K     |█████████████████████████████▏  | 788 kB 9.5 MB/s eta 0:00:01\r\u001b[K     |█████████████████████████████▌  | 798 kB 9.5 MB/s eta 0:00:01\r\u001b[K     |██████████████████████████████  | 808 kB 9.5 MB/s eta 0:00:01\r\u001b[K     |██████████████████████████████▎ | 819 kB 9.5 MB/s eta 0:00:01\r\u001b[K     |██████████████████████████████▋ | 829 kB 9.5 MB/s eta 0:00:01\r\u001b[K     |███████████████████████████████ | 839 kB 9.5 MB/s eta 0:00:01\r\u001b[K     |███████████████████████████████▍| 849 kB 9.5 MB/s eta 0:00:01\r\u001b[K     |███████████████████████████████▉| 860 kB 9.5 MB/s eta 0:00:01\r\u001b[K     |████████████████████████████████| 865 kB 9.5 MB/s \n",
            "\u001b[?25hInstalling collected packages: pyfiglet\n",
            "Successfully installed pyfiglet-0.8.post1\n",
            "Select your font: 1. diamond 2. zig_zag_ 3. platoon2 4. com_sen_ 5. skate_ro\n",
            " >>>1\n",
            "Enter some text: \n",
            "hello\n",
            "                   /\\\\ /\\\\          \n",
            "/\\\\                /\\\\ /\\\\          \n",
            "/\\\\        /\\\\     /\\\\ /\\\\   /\\\\    \n",
            "/\\ /\\    /\\   /\\\\  /\\\\ /\\\\ /\\\\  /\\\\ \n",
            "/\\\\  /\\\\/\\\\\\\\\\ /\\\\ /\\\\ /\\\\/\\\\    /\\\\\n",
            "/\\   /\\\\/\\         /\\\\ /\\\\ /\\\\  /\\\\ \n",
            "/\\\\  /\\\\  /\\\\\\\\   /\\\\\\/\\\\\\   /\\\\    \n",
            "                                    \n",
            "\n"
          ]
        }
      ],
      "source": [
        "#******************************************************************************\n",
        "# COMP 593 - Lab 1\n",
        "#\n",
        "# Description:\n",
        "#  Asks the user to select a font from a randomly selected list of choices. Font can be selected by inputting corresponding number or font name. Then asks user to input some text which will print out in selected font.\n",
        "#  \n",
        "# Usage:\n",
        "#  python lab1-austinlabrecque.py\n",
        "#\n",
        "#  Date        Author   \n",
        "#  2/6/2022  Austin Labrecque  \n",
        "#******************************************************************************\n",
        "\n",
        "!pip install pyfiglet\n",
        "\n",
        "from pyfiglet import Figlet\n",
        "import random\n",
        "\n",
        "figlet = Figlet()\n",
        "fonts = figlet.getFonts()\n",
        "\n",
        "font1 = random.choice(fonts)\n",
        "font2 = random.choice(fonts)\n",
        "font3 = random.choice(fonts)\n",
        "font4 = random.choice(fonts)\n",
        "font5 = random.choice(fonts)\n",
        "\n",
        "selectedFont = input(\"Select your font: 1. \"+font1+\" 2. \"+font2+\" 3. \"+font3+\" 4. \"+font4+\" 5. \"+font5+\"\\n >>>\")\n",
        "\n",
        "if (selectedFont == \"1\") or (selectedFont == font1):\n",
        "    userInput = input(\"Enter some text: \\n\")\n",
        "    figlet.setFont(font=font1)\n",
        "    print(figlet.renderText(userInput))\n",
        "    \n",
        "    \n",
        "elif (selectedFont == \"2\") or (selectedFont == font2):\n",
        "    userInput = input(\"Enter some text: \\n\")\n",
        "    figlet.setFont(font=font2)\n",
        "    print(figlet.renderText(userInput))\n",
        "\n",
        "elif (selectedFont == \"3\") or (selectedFont == font3):\n",
        "    userInput = input(\"Enter some text: \\n\")\n",
        "    figlet.setFont(font=font3)\n",
        "    print(figlet.renderText(userInput))      \n",
        "    \n",
        "elif (selectedFont == \"4\") or (selectedFont == font4):\n",
        "    userInput = input(\"Enter some text: \\n\")\n",
        "    figlet.setFont(font=font4)\n",
        "    print(figlet.renderText(userInput)) \n",
        "\n",
        "elif (selectedFont == \"5\") or (selectedFont == font5):\n",
        "    userInput = input(\"Enter some text: \\n\")\n",
        "    figlet.setFont(font=font5)\n",
        "    print(figlet.renderText(userInput))    "
      ]
    }
  ]
}